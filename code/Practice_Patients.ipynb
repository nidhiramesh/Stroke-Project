{
 "cells": [
  {
   "cell_type": "code",
   "execution_count": 2,
   "metadata": {},
   "outputs": [
    {
     "ename": "ModuleNotFoundError",
     "evalue": "No module named 'pandas'",
     "output_type": "error",
     "traceback": [
      "\u001b[0;31m---------------------------------------------------------------------------\u001b[0m",
      "\u001b[0;31mModuleNotFoundError\u001b[0m                       Traceback (most recent call last)",
      "\u001b[0;32m/tmp/ipykernel_24708/4100619937.py\u001b[0m in \u001b[0;36m<module>\u001b[0;34m\u001b[0m\n\u001b[1;32m      1\u001b[0m \u001b[0;31m# import nibabel as nib\u001b[0m\u001b[0;34m\u001b[0m\u001b[0;34m\u001b[0m\u001b[0m\n\u001b[0;32m----> 2\u001b[0;31m \u001b[0;32mimport\u001b[0m \u001b[0mpandas\u001b[0m \u001b[0;32mas\u001b[0m \u001b[0mpd\u001b[0m\u001b[0;34m\u001b[0m\u001b[0;34m\u001b[0m\u001b[0m\n\u001b[0m\u001b[1;32m      3\u001b[0m \u001b[0;32mimport\u001b[0m \u001b[0mnumpy\u001b[0m \u001b[0;32mas\u001b[0m \u001b[0mnp\u001b[0m\u001b[0;34m\u001b[0m\u001b[0;34m\u001b[0m\u001b[0m\n\u001b[1;32m      4\u001b[0m \u001b[0;32mimport\u001b[0m \u001b[0mmatplotlib\u001b[0m\u001b[0;34m.\u001b[0m\u001b[0mpylab\u001b[0m \u001b[0;32mas\u001b[0m \u001b[0mplt\u001b[0m\u001b[0;34m\u001b[0m\u001b[0;34m\u001b[0m\u001b[0m\n\u001b[1;32m      5\u001b[0m \u001b[0;32mimport\u001b[0m \u001b[0mos\u001b[0m\u001b[0;34m\u001b[0m\u001b[0;34m\u001b[0m\u001b[0m\n",
      "\u001b[0;31mModuleNotFoundError\u001b[0m: No module named 'pandas'"
     ]
    }
   ],
   "source": [
    "# import nibabel as nib\n",
    "import pandas as pd\n",
    "import numpy as np\n",
    "import matplotlib.pylab as plt\n",
    "import os\n",
    "atlas = nib.load('/home/nidhiramesh/CT_Project/vasc_terr_r.nii.gz')\n",
    "#get voxel spacing of this patient. first goes spacing along x, then along y, then along z"
   ]
  },
  {
   "cell_type": "code",
   "execution_count": 22,
   "metadata": {
    "scrolled": true
   },
   "outputs": [],
   "source": [
    "header = atlas.header\n",
    "#print(header)      "
   ]
  },
  {
   "cell_type": "code",
   "execution_count": 23,
   "metadata": {},
   "outputs": [
    {
     "data": {
      "text/plain": [
       "(207, 256, 26)"
      ]
     },
     "execution_count": 23,
     "metadata": {},
     "output_type": "execute_result"
    },
    {
     "data": {
      "image/png": "[encoded data removed]",
      "text/plain": [
       "<Figure size 432x288 with 1 Axes>"
      ]
     },
     "metadata": {
      "needs_background": "light"
     },
     "output_type": "display_data"
    }
   ],
   "source": [
    "atlas = atlas.get_fdata()\n",
    "\n",
    "import matplotlib.pyplot as plt\n",
    "plt.imshow(atlas[:, :, 10], cmap='gray')\n",
    "\n",
    "atlas.shape"
   ]
  },
  {
   "cell_type": "code",
   "execution_count": 24,
   "metadata": {},
   "outputs": [
    {
     "name": "stdout",
     "output_type": "stream",
     "text": [
      "[ 0  1  2  3  4  5  6  7  8  9 10 11 12 13 14 15 16 17 18 19 20]\n"
     ]
    }
   ],
   "source": [
    "table = np.unique(atlas.astype(int))\n",
    "print(table)"
   ]
  },
  {
   "cell_type": "code",
   "execution_count": 25,
   "metadata": {},
   "outputs": [],
   "source": [
    "tmp = np.zeros((207,256,26))\n",
    "#labels = np.unique(label_terr)\n",
    "\n",
    "for x in table:\n",
    "    tmp[atlas==x]=1\n",
    "    "
   ]
  },
  {
   "cell_type": "code",
   "execution_count": 26,
   "metadata": {},
   "outputs": [
    {
     "name": "stdout",
     "output_type": "stream",
     "text": [
      "[[[1. 1. 1. ... 1. 1. 1.]\n",
      "  [1. 1. 1. ... 1. 1. 1.]\n",
      "  [1. 1. 1. ... 1. 1. 1.]\n",
      "  ...\n",
      "  [1. 1. 1. ... 1. 1. 1.]\n",
      "  [1. 1. 1. ... 1. 1. 1.]\n",
      "  [1. 1. 1. ... 1. 1. 1.]]\n",
      "\n",
      " [[1. 1. 1. ... 1. 1. 1.]\n",
      "  [1. 1. 1. ... 1. 1. 1.]\n",
      "  [1. 1. 1. ... 1. 1. 1.]\n",
      "  ...\n",
      "  [1. 1. 1. ... 1. 1. 1.]\n",
      "  [1. 1. 1. ... 1. 1. 1.]\n",
      "  [1. 1. 1. ... 1. 1. 1.]]\n",
      "\n",
      " [[1. 1. 1. ... 1. 1. 1.]\n",
      "  [1. 1. 1. ... 1. 1. 1.]\n",
      "  [1. 1. 1. ... 1. 1. 1.]\n",
      "  ...\n",
      "  [1. 1. 1. ... 1. 1. 1.]\n",
      "  [1. 1. 1. ... 1. 1. 1.]\n",
      "  [1. 1. 1. ... 1. 1. 1.]]\n",
      "\n",
      " ...\n",
      "\n",
      " [[1. 1. 1. ... 1. 1. 1.]\n",
      "  [1. 1. 1. ... 1. 1. 1.]\n",
      "  [1. 1. 1. ... 1. 1. 1.]\n",
      "  ...\n",
      "  [1. 1. 1. ... 1. 1. 1.]\n",
      "  [1. 1. 1. ... 1. 1. 1.]\n",
      "  [1. 1. 1. ... 1. 1. 1.]]\n",
      "\n",
      " [[1. 1. 1. ... 1. 1. 1.]\n",
      "  [1. 1. 1. ... 1. 1. 1.]\n",
      "  [1. 1. 1. ... 1. 1. 1.]\n",
      "  ...\n",
      "  [1. 1. 1. ... 1. 1. 1.]\n",
      "  [1. 1. 1. ... 1. 1. 1.]\n",
      "  [1. 1. 1. ... 1. 1. 1.]]\n",
      "\n",
      " [[1. 1. 1. ... 1. 1. 1.]\n",
      "  [1. 1. 1. ... 1. 1. 1.]\n",
      "  [1. 1. 1. ... 1. 1. 1.]\n",
      "  ...\n",
      "  [1. 1. 1. ... 1. 1. 1.]\n",
      "  [1. 1. 1. ... 1. 1. 1.]\n",
      "  [1. 1. 1. ... 1. 1. 1.]]]\n"
     ]
    }
   ],
   "source": [
    "print(tmp)"
   ]
  },
  {
   "cell_type": "code",
   "execution_count": 44,
   "metadata": {},
   "outputs": [
    {
     "name": "stdout",
     "output_type": "stream",
     "text": [
      "Whole_Brain\n"
     ]
    },
    {
     "data": {
      "image/png": "[encoded data removed]",
      "text/plain": [
       "<Figure size 432x288 with 1 Axes>"
      ]
     },
     "metadata": {
      "needs_background": "light"
     },
     "output_type": "display_data"
    },
    {
     "name": "stdout",
     "output_type": "stream",
     "text": [
      "R_ACA\n"
     ]
    },
    {
     "data": {
      "image/png": "[encoded data removed]",
      "text/plain": [
       "<Figure size 432x288 with 1 Axes>"
      ]
     },
     "metadata": {
      "needs_background": "light"
     },
     "output_type": "display_data"
    },
    {
     "name": "stdout",
     "output_type": "stream",
     "text": [
      "R_MCA\n"
     ]
    },
    {
     "data": {
      "image/png": "[encoded data removed]",
      "text/plain": [
       "<Figure size 432x288 with 1 Axes>"
      ]
     },
     "metadata": {
      "needs_background": "light"
     },
     "output_type": "display_data"
    },
    {
     "name": "stdout",
     "output_type": "stream",
     "text": [
      "R_PCA\n"
     ]
    },
    {
     "data": {
      "image/png": "[encoded data removed]",
      "text/plain": [
       "<Figure size 432x288 with 1 Axes>"
      ]
     },
     "metadata": {
      "needs_background": "light"
     },
     "output_type": "display_data"
    },
    {
     "name": "stdout",
     "output_type": "stream",
     "text": [
      "R_ICA\n"
     ]
    },
    {
     "data": {
      "image/png": "[encoded data removed]",
      "text/plain": [
       "<Figure size 432x288 with 1 Axes>"
      ]
     },
     "metadata": {
      "needs_background": "light"
     },
     "output_type": "display_data"
    },
    {
     "name": "stdout",
     "output_type": "stream",
     "text": [
      "R_PICA\n"
     ]
    },
    {
     "data": {
      "image/png": "[encoded data removed]",
      "text/plain": [
       "<Figure size 432x288 with 1 Axes>"
      ]
     },
     "metadata": {
      "needs_background": "light"
     },
     "output_type": "display_data"
    },
    {
     "name": "stdout",
     "output_type": "stream",
     "text": [
      "L_ACA\n"
     ]
    },
    {
     "data": {
      "image/png": "[encoded data removed]",
      "text/plain": [
       "<Figure size 432x288 with 1 Axes>"
      ]
     },
     "metadata": {
      "needs_background": "light"
     },
     "output_type": "display_data"
    },
    {
     "name": "stdout",
     "output_type": "stream",
     "text": [
      "L_MCA\n"
     ]
    },
    {
     "data": {
      "image/png": "[encoded data removed]",
      "text/plain": [
       "<Figure size 432x288 with 1 Axes>"
      ]
     },
     "metadata": {
      "needs_background": "light"
     },
     "output_type": "display_data"
    },
    {
     "name": "stdout",
     "output_type": "stream",
     "text": [
      "L_PCA\n"
     ]
    },
    {
     "data": {
      "image/png": "[encoded data removed]",
      "text/plain": [
       "<Figure size 432x288 with 1 Axes>"
      ]
     },
     "metadata": {
      "needs_background": "light"
     },
     "output_type": "display_data"
    },
    {
     "name": "stdout",
     "output_type": "stream",
     "text": [
      "L_ICA\n"
     ]
    },
    {
     "data": {
      "image/png": "[encoded data removed]",
      "text/plain": [
       "<Figure size 432x288 with 1 Axes>"
      ]
     },
     "metadata": {
      "needs_background": "light"
     },
     "output_type": "display_data"
    },
    {
     "name": "stdout",
     "output_type": "stream",
     "text": [
      "L_PICA\n"
     ]
    },
    {
     "data": {
      "image/png": "[encoded data removed]",
      "text/plain": [
       "<Figure size 432x288 with 1 Axes>"
      ]
     },
     "metadata": {
      "needs_background": "light"
     },
     "output_type": "display_data"
    }
   ],
   "source": [
    "#mask_file = nib.load(os.path.join(self.training_path, \"vasc_terr_r.nii.gz\"))\n",
    "atlas = nib.load('/home/nidhiramesh/CT_Project/vasc_terr_r.nii.gz')\n",
    "atlas = atlas.get_fdata().astype(int) / 2\n",
    "\n",
    "label_terr = ['Whole_Brain',\n",
    "              'R_ACA',\n",
    "              'R_MCA',\n",
    "              'R_PCA',\n",
    "              'R_ICA',\n",
    "              'R_PICA',\n",
    "              'L_ACA',\n",
    "              'L_MCA',\n",
    "              'L_PCA',\n",
    "              'L_ICA',\n",
    "              'L_PICA', ]\n",
    "\n",
    "ind = \"R_MCA\"\n",
    "\n",
    "#for l in label_terr:\n",
    "\n",
    "\n",
    "for l in label_terr:\n",
    "    ind = l\n",
    "    print(ind)\n",
    "    mask = np.zeros(atlas.T.shape)\n",
    "    mask += atlas.T == label_terr.index(ind)\n",
    "    plt.imshow(mask[10,:,:], cmap='gray')\n",
    "    plt.show()"
   ]
  },
  {
   "cell_type": "code",
   "execution_count": 77,
   "metadata": {},
   "outputs": [
    {
     "data": {
      "text/plain": [
       "<matplotlib.image.AxesImage at 0x7ff81abb9b80>"
      ]
     },
     "execution_count": 77,
     "metadata": {},
     "output_type": "execute_result"
    },
    {
     "data": {
      "image/png": "[encoded data removed]",
      "text/plain": [
       "<Figure size 432x288 with 1 Axes>"
      ]
     },
     "metadata": {
      "needs_background": "light"
     },
     "output_type": "display_data"
    }
   ],
   "source": [
    "plt.imshow(mask[10,:,:], cmap='gray')"
   ]
  },
  {
   "cell_type": "code",
   "execution_count": 46,
   "metadata": {},
   "outputs": [],
   "source": [
    "df = pd.read_csv('/home/nidhiramesh/CT_Project/data_sheets/MTB_CT_Patients.csv')\n",
    "df.head()\n",
    "location = df['Location'].tolist()\n",
    "side = df['Side'].tolist()\n",
    "\n",
    "atlas = atlas / 2\n",
    "label_terr = ['B_PICA','B_PCA','R_ICA ',\n",
    "                              'R_ACA',\n",
    "                              'R_MCA',\n",
    "                              'R_PCA',\n",
    "                              'R_ICA',\n",
    "                              'R_PICA',\n",
    "                              'L_ACA',\n",
    "                              'L_MCA',\n",
    "                              'L_PCA',\n",
    "                              'L_ICA',\n",
    "                              'L_PICA', ]\n"
   ]
  },
  {
   "cell_type": "code",
   "execution_count": 47,
   "metadata": {},
   "outputs": [],
   "source": [
    "mask = np.zeros(atlas.T.shape)\n",
    "#location = location.split('/')\n",
    "for x in location:\n",
    "    if x.startswith('M'):\n",
    "        x = 'MCA'\n",
    "    elif x.startswith('PI'):\n",
    "        x = 'PICA'\n",
    "    elif x.startswith('P'):\n",
    "        x = 'PCA'\n",
    "    elif x.startswith('C'):\n",
    "        x = 'ICA'\n",
    "    index = side[location.index(x)] + \"_\" + x\n",
    "    mask += atlas.T == label_terr.index(index)"
   ]
  },
  {
   "cell_type": "code",
   "execution_count": 48,
   "metadata": {},
   "outputs": [
    {
     "name": "stdout",
     "output_type": "stream",
     "text": [
      "[[[2. 2. 2. ... 2. 2. 2.]\n",
      "  [2. 2. 2. ... 2. 2. 2.]\n",
      "  [2. 2. 2. ... 2. 2. 2.]\n",
      "  ...\n",
      "  [2. 2. 2. ... 2. 2. 2.]\n",
      "  [2. 2. 2. ... 2. 2. 2.]\n",
      "  [2. 2. 2. ... 2. 2. 2.]]\n",
      "\n",
      " [[2. 2. 2. ... 2. 2. 2.]\n",
      "  [2. 2. 2. ... 2. 2. 2.]\n",
      "  [2. 2. 2. ... 2. 2. 2.]\n",
      "  ...\n",
      "  [2. 2. 2. ... 2. 2. 2.]\n",
      "  [2. 2. 2. ... 2. 2. 2.]\n",
      "  [2. 2. 2. ... 2. 2. 2.]]\n",
      "\n",
      " [[2. 2. 2. ... 2. 2. 2.]\n",
      "  [2. 2. 2. ... 2. 2. 2.]\n",
      "  [2. 2. 2. ... 2. 2. 2.]\n",
      "  ...\n",
      "  [2. 2. 2. ... 2. 2. 2.]\n",
      "  [2. 2. 2. ... 2. 2. 2.]\n",
      "  [2. 2. 2. ... 2. 2. 2.]]\n",
      "\n",
      " ...\n",
      "\n",
      " [[2. 2. 2. ... 2. 2. 2.]\n",
      "  [2. 2. 2. ... 2. 2. 2.]\n",
      "  [2. 2. 2. ... 2. 2. 2.]\n",
      "  ...\n",
      "  [2. 2. 2. ... 2. 2. 2.]\n",
      "  [2. 2. 2. ... 2. 2. 2.]\n",
      "  [2. 2. 2. ... 2. 2. 2.]]\n",
      "\n",
      " [[2. 2. 2. ... 2. 2. 2.]\n",
      "  [2. 2. 2. ... 2. 2. 2.]\n",
      "  [2. 2. 2. ... 2. 2. 2.]\n",
      "  ...\n",
      "  [2. 2. 2. ... 2. 2. 2.]\n",
      "  [2. 2. 2. ... 2. 2. 2.]\n",
      "  [2. 2. 2. ... 2. 2. 2.]]\n",
      "\n",
      " [[2. 2. 2. ... 2. 2. 2.]\n",
      "  [2. 2. 2. ... 2. 2. 2.]\n",
      "  [2. 2. 2. ... 2. 2. 2.]\n",
      "  ...\n",
      "  [2. 2. 2. ... 2. 2. 2.]\n",
      "  [2. 2. 2. ... 2. 2. 2.]\n",
      "  [2. 2. 2. ... 2. 2. 2.]]]\n"
     ]
    }
   ],
   "source": [
    "print(mask)"
   ]
  },
  {
   "cell_type": "code",
   "execution_count": 44,
   "metadata": {},
   "outputs": [],
   "source": [
    "from scipy.ndimage import binary_dilation, zoom\n",
    "# dilate the mask\n",
    "kernel = np.ones((3, 3, 3), np.uint8)\n",
    "img_dil = binary_dilation(mask, kernel, iterations=2)\n",
    "\n",
    "# multiply the mask\n",
    "#series_array = series_array * img_dil"
   ]
  },
  {
   "cell_type": "code",
   "execution_count": 25,
   "metadata": {},
   "outputs": [],
   "source": [
    "img1 = nib.load('/home/nidhiramesh/CT_Project/patient_images/280019/CTA_Brain-Neck_1.0_H30f_stripped.nii.gz')"
   ]
  },
  {
   "cell_type": "code",
   "execution_count": 28,
   "metadata": {},
   "outputs": [
    {
     "data": {
      "text/plain": [
       "<matplotlib.image.AxesImage at 0x7f3512b09fd0>"
      ]
     },
     "execution_count": 28,
     "metadata": {},
     "output_type": "execute_result"
    },
    {
     "data": {
      "image/png": "[encoded data removed]",
      "text/plain": [
       "<Figure size 432x288 with 1 Axes>"
      ]
     },
     "metadata": {
      "needs_background": "light"
     },
     "output_type": "display_data"
    }
   ],
   "source": [
    "img1 = img1.get_fdata()\n",
    "\n",
    "import matplotlib.pyplot as plt\n",
    "plt.imshow(img1[:, :, 100], cmap='gray')"
   ]
  },
  {
   "cell_type": "code",
   "execution_count": 7,
   "metadata": {},
   "outputs": [],
   "source": [
    "img2 = nib.load('/home/nidhiramesh/CT_Project/patient_images/280019/CTA_Brain-Neck_1.0_H30f_stripped.nii.gz')"
   ]
  },
  {
   "cell_type": "code",
   "execution_count": 8,
   "metadata": {},
   "outputs": [
    {
     "data": {
      "text/plain": [
       "<matplotlib.image.AxesImage at 0x7f3512c830d0>"
      ]
     },
     "execution_count": 8,
     "metadata": {},
     "output_type": "execute_result"
    },
    {
     "data": {
      "image/png": "[encoded data removed]",
      "text/plain": [
       "<Figure size 432x288 with 1 Axes>"
      ]
     },
     "metadata": {
      "needs_background": "light"
     },
     "output_type": "display_data"
    }
   ],
   "source": [
    "img2 = img2.get_fdata()\n",
    "\n",
    "import matplotlib.pyplot as plt\n",
    "plt.imshow(img2[:, :, 10], cmap='gray')"
   ]
  },
  {
   "cell_type": "code",
   "execution_count": 18,
   "metadata": {},
   "outputs": [
    {
     "data": {
      "text/html": [
       "<div>\n",
       "<style scoped>\n",
       "    .dataframe tbody tr th:only-of-type {\n",
       "        vertical-align: middle;\n",
       "    }\n",
       "\n",
       "    .dataframe tbody tr th {\n",
       "        vertical-align: top;\n",
       "    }\n",
       "\n",
       "    .dataframe thead th {\n",
       "        text-align: right;\n",
       "    }\n",
       "</style>\n",
       "<table border=\"1\" class=\"dataframe\">\n",
       "  <thead>\n",
       "    <tr style=\"text-align: right;\">\n",
       "      <th></th>\n",
       "      <th>PT_ID</th>\n",
       "      <th>Sex</th>\n",
       "      <th>Age</th>\n",
       "      <th>Side</th>\n",
       "      <th>Location</th>\n",
       "      <th>NIHSS</th>\n",
       "      <th>TICI</th>\n",
       "      <th>AOL</th>\n",
       "      <th>Pulls</th>\n",
       "      <th>Label_mTICI_2c+</th>\n",
       "      <th>Label_FPE_2c</th>\n",
       "      <th>Label_mTICI_2b+</th>\n",
       "      <th>Label_FPE_2b</th>\n",
       "    </tr>\n",
       "  </thead>\n",
       "  <tbody>\n",
       "    <tr>\n",
       "      <th>0</th>\n",
       "      <td>280019</td>\n",
       "      <td>m</td>\n",
       "      <td>67</td>\n",
       "      <td>R</td>\n",
       "      <td>MCA</td>\n",
       "      <td>11</td>\n",
       "      <td>3</td>\n",
       "      <td>3</td>\n",
       "      <td>4</td>\n",
       "      <td>1</td>\n",
       "      <td>0</td>\n",
       "      <td>1</td>\n",
       "      <td>0</td>\n",
       "    </tr>\n",
       "    <tr>\n",
       "      <th>1</th>\n",
       "      <td>280021</td>\n",
       "      <td>m</td>\n",
       "      <td>66</td>\n",
       "      <td>R</td>\n",
       "      <td>MCA</td>\n",
       "      <td>10</td>\n",
       "      <td>0</td>\n",
       "      <td>0</td>\n",
       "      <td>3</td>\n",
       "      <td>0</td>\n",
       "      <td>0</td>\n",
       "      <td>0</td>\n",
       "      <td>0</td>\n",
       "    </tr>\n",
       "    <tr>\n",
       "      <th>2</th>\n",
       "      <td>280022</td>\n",
       "      <td>f</td>\n",
       "      <td>73</td>\n",
       "      <td>R</td>\n",
       "      <td>ICA</td>\n",
       "      <td>23</td>\n",
       "      <td>2b</td>\n",
       "      <td>3</td>\n",
       "      <td>3</td>\n",
       "      <td>0</td>\n",
       "      <td>0</td>\n",
       "      <td>1</td>\n",
       "      <td>0</td>\n",
       "    </tr>\n",
       "    <tr>\n",
       "      <th>3</th>\n",
       "      <td>280025</td>\n",
       "      <td>f</td>\n",
       "      <td>83</td>\n",
       "      <td>L</td>\n",
       "      <td>ICA</td>\n",
       "      <td>19</td>\n",
       "      <td>2b</td>\n",
       "      <td>3</td>\n",
       "      <td>2</td>\n",
       "      <td>0</td>\n",
       "      <td>0</td>\n",
       "      <td>1</td>\n",
       "      <td>0</td>\n",
       "    </tr>\n",
       "    <tr>\n",
       "      <th>4</th>\n",
       "      <td>280037</td>\n",
       "      <td>m</td>\n",
       "      <td>59</td>\n",
       "      <td>B</td>\n",
       "      <td>PICA</td>\n",
       "      <td>32</td>\n",
       "      <td>3</td>\n",
       "      <td>3</td>\n",
       "      <td>1</td>\n",
       "      <td>1</td>\n",
       "      <td>1</td>\n",
       "      <td>1</td>\n",
       "      <td>1</td>\n",
       "    </tr>\n",
       "  </tbody>\n",
       "</table>\n",
       "</div>"
      ],
      "text/plain": [
       "    PT_ID Sex  Age Side Location NIHSS TICI AOL  Pulls  Label_mTICI_2c+  \\\n",
       "0  280019   m   67    R      MCA    11    3   3      4                1   \n",
       "1  280021   m   66    R      MCA    10    0   0      3                0   \n",
       "2  280022   f   73    R      ICA    23   2b   3      3                0   \n",
       "3  280025   f   83    L      ICA    19   2b   3      2                0   \n",
       "4  280037   m   59    B     PICA    32    3   3      1                1   \n",
       "\n",
       "   Label_FPE_2c  Label_mTICI_2b+  Label_FPE_2b  \n",
       "0             0                1             0  \n",
       "1             0                0             0  \n",
       "2             0                1             0  \n",
       "3             0                1             0  \n",
       "4             1                1             1  "
      ]
     },
     "execution_count": 18,
     "metadata": {},
     "output_type": "execute_result"
    }
   ],
   "source": [
    "\n",
    "#254 rows x 13 columns"
   ]
  },
  {
   "cell_type": "code",
   "execution_count": null,
   "metadata": {},
   "outputs": [],
   "source": []
  }
 ],
 "metadata": {
  "kernelspec": {
   "display_name": "nidhienv",
   "language": "python",
   "name": "nidhienv"
  },
  "language_info": {
   "codemirror_mode": {
    "name": "ipython",
    "version": 3
   },
   "file_extension": ".py",
   "mimetype": "text/x-python",
   "name": "python",
   "nbconvert_exporter": "python",
   "pygments_lexer": "ipython3",
   "version": "3.7.11"
  }
 },
 "nbformat": 4,
 "nbformat_minor": 4
}
