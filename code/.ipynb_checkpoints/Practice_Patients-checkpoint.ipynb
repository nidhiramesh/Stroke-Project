{
 "cells": [
  {
   "cell_type": "code",
   "execution_count": 10,
   "metadata": {},
   "outputs": [],
   "source": [
    "import nibabel as nib\n",
    "import pandas as pd\n",
    "import numpy as np\n",
    "import matplotlib.pylab as plt\n",
    "\n",
    "atlas = nib.load('/home/nidhiramesh/CT_Project/vasc_terr_r.nii.gz')\n",
    "#get voxel spacing of this patient. first goes spacing along x, then along y, then along z"
   ]
  },
  {
   "cell_type": "code",
   "execution_count": 19,
   "metadata": {
    "scrolled": true
   },
   "outputs": [],
   "source": [
    "header = atlas.header\n",
    "#print(header)      "
   ]
  },
  {
   "cell_type": "code",
   "execution_count": 12,
   "metadata": {},
   "outputs": [],
   "source": [
    "img1 = nib.load('/home/nidhiramesh/CT_Project/patient_images/280019/CTA_Brain-Neck_1.0_H30f_stripped.nii.gz')"
   ]
  },
  {
   "cell_type": "code",
   "execution_count": 13,
   "metadata": {},
   "outputs": [],
   "source": [
    "img2 = nib.load('/home/nidhiramesh/CT_Project/patient_images/280019/CTA_Brain-Neck_1.0_H30f_stripped.nii.gz')"
   ]
  },
  {
   "cell_type": "code",
   "execution_count": 18,
   "metadata": {},
   "outputs": [
    {
     "data": {
      "text/html": [
       "<div>\n",
       "<style scoped>\n",
       "    .dataframe tbody tr th:only-of-type {\n",
       "        vertical-align: middle;\n",
       "    }\n",
       "\n",
       "    .dataframe tbody tr th {\n",
       "        vertical-align: top;\n",
       "    }\n",
       "\n",
       "    .dataframe thead th {\n",
       "        text-align: right;\n",
       "    }\n",
       "</style>\n",
       "<table border=\"1\" class=\"dataframe\">\n",
       "  <thead>\n",
       "    <tr style=\"text-align: right;\">\n",
       "      <th></th>\n",
       "      <th>PT_ID</th>\n",
       "      <th>Sex</th>\n",
       "      <th>Age</th>\n",
       "      <th>Side</th>\n",
       "      <th>Location</th>\n",
       "      <th>NIHSS</th>\n",
       "      <th>TICI</th>\n",
       "      <th>AOL</th>\n",
       "      <th>Pulls</th>\n",
       "      <th>Label_mTICI_2c+</th>\n",
       "      <th>Label_FPE_2c</th>\n",
       "      <th>Label_mTICI_2b+</th>\n",
       "      <th>Label_FPE_2b</th>\n",
       "    </tr>\n",
       "  </thead>\n",
       "  <tbody>\n",
       "    <tr>\n",
       "      <th>0</th>\n",
       "      <td>280019</td>\n",
       "      <td>m</td>\n",
       "      <td>67</td>\n",
       "      <td>R</td>\n",
       "      <td>MCA</td>\n",
       "      <td>11</td>\n",
       "      <td>3</td>\n",
       "      <td>3</td>\n",
       "      <td>4</td>\n",
       "      <td>1</td>\n",
       "      <td>0</td>\n",
       "      <td>1</td>\n",
       "      <td>0</td>\n",
       "    </tr>\n",
       "    <tr>\n",
       "      <th>1</th>\n",
       "      <td>280021</td>\n",
       "      <td>m</td>\n",
       "      <td>66</td>\n",
       "      <td>R</td>\n",
       "      <td>MCA</td>\n",
       "      <td>10</td>\n",
       "      <td>0</td>\n",
       "      <td>0</td>\n",
       "      <td>3</td>\n",
       "      <td>0</td>\n",
       "      <td>0</td>\n",
       "      <td>0</td>\n",
       "      <td>0</td>\n",
       "    </tr>\n",
       "    <tr>\n",
       "      <th>2</th>\n",
       "      <td>280022</td>\n",
       "      <td>f</td>\n",
       "      <td>73</td>\n",
       "      <td>R</td>\n",
       "      <td>ICA</td>\n",
       "      <td>23</td>\n",
       "      <td>2b</td>\n",
       "      <td>3</td>\n",
       "      <td>3</td>\n",
       "      <td>0</td>\n",
       "      <td>0</td>\n",
       "      <td>1</td>\n",
       "      <td>0</td>\n",
       "    </tr>\n",
       "    <tr>\n",
       "      <th>3</th>\n",
       "      <td>280025</td>\n",
       "      <td>f</td>\n",
       "      <td>83</td>\n",
       "      <td>L</td>\n",
       "      <td>ICA</td>\n",
       "      <td>19</td>\n",
       "      <td>2b</td>\n",
       "      <td>3</td>\n",
       "      <td>2</td>\n",
       "      <td>0</td>\n",
       "      <td>0</td>\n",
       "      <td>1</td>\n",
       "      <td>0</td>\n",
       "    </tr>\n",
       "    <tr>\n",
       "      <th>4</th>\n",
       "      <td>280037</td>\n",
       "      <td>m</td>\n",
       "      <td>59</td>\n",
       "      <td>B</td>\n",
       "      <td>PICA</td>\n",
       "      <td>32</td>\n",
       "      <td>3</td>\n",
       "      <td>3</td>\n",
       "      <td>1</td>\n",
       "      <td>1</td>\n",
       "      <td>1</td>\n",
       "      <td>1</td>\n",
       "      <td>1</td>\n",
       "    </tr>\n",
       "  </tbody>\n",
       "</table>\n",
       "</div>"
      ],
      "text/plain": [
       "    PT_ID Sex  Age Side Location NIHSS TICI AOL  Pulls  Label_mTICI_2c+  \\\n",
       "0  280019   m   67    R      MCA    11    3   3      4                1   \n",
       "1  280021   m   66    R      MCA    10    0   0      3                0   \n",
       "2  280022   f   73    R      ICA    23   2b   3      3                0   \n",
       "3  280025   f   83    L      ICA    19   2b   3      2                0   \n",
       "4  280037   m   59    B     PICA    32    3   3      1                1   \n",
       "\n",
       "   Label_FPE_2c  Label_mTICI_2b+  Label_FPE_2b  \n",
       "0             0                1             0  \n",
       "1             0                0             0  \n",
       "2             0                1             0  \n",
       "3             0                1             0  \n",
       "4             1                1             1  "
      ]
     },
     "execution_count": 18,
     "metadata": {},
     "output_type": "execute_result"
    }
   ],
   "source": [
    "df = pd.read_csv('/home/nidhiramesh/CT_Project/data_sheets/MTB_CT_Patients.csv')\n",
    "df.head()\n",
    "\n",
    "#254 rows x 13 columns"
   ]
  },
  {
   "cell_type": "code",
   "execution_count": null,
   "metadata": {},
   "outputs": [],
   "source": []
  }
 ],
 "metadata": {
  "kernelspec": {
   "display_name": "Python 3",
   "language": "python",
   "name": "python3"
  },
  "language_info": {
   "codemirror_mode": {
    "name": "ipython",
    "version": 3
   },
   "file_extension": ".py",
   "mimetype": "text/x-python",
   "name": "python",
   "nbconvert_exporter": "python",
   "pygments_lexer": "ipython3",
   "version": "3.8.3"
  }
 },
 "nbformat": 4,
 "nbformat_minor": 4
}
