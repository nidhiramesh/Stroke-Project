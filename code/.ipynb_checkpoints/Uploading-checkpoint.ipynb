{
 "cells": [
  {
   "cell_type": "code",
   "execution_count": 2,
   "metadata": {},
   "outputs": [
    {
     "ename": "ModuleNotFoundError",
     "evalue": "No module named 'radiomics'",
     "output_type": "error",
     "traceback": [
      "\u001b[0;31m---------------------------------------------------------------------------\u001b[0m",
      "\u001b[0;31mModuleNotFoundError\u001b[0m                       Traceback (most recent call last)",
      "\u001b[0;32m<ipython-input-2-7f73adacfc60>\u001b[0m in \u001b[0;36m<module>\u001b[0;34m\u001b[0m\n\u001b[1;32m      4\u001b[0m \u001b[0;32mimport\u001b[0m \u001b[0mnumpy\u001b[0m \u001b[0;32mas\u001b[0m \u001b[0mnp\u001b[0m\u001b[0;34m\u001b[0m\u001b[0;34m\u001b[0m\u001b[0m\n\u001b[1;32m      5\u001b[0m \u001b[0;32mimport\u001b[0m \u001b[0mos\u001b[0m  \u001b[0;31m# needed to navigate the system to get the input data\u001b[0m\u001b[0;34m\u001b[0m\u001b[0;34m\u001b[0m\u001b[0m\n\u001b[0;32m----> 6\u001b[0;31m \u001b[0;32mimport\u001b[0m \u001b[0mradiomics\u001b[0m\u001b[0;34m\u001b[0m\u001b[0;34m\u001b[0m\u001b[0m\n\u001b[0m\u001b[1;32m      7\u001b[0m \u001b[0;32mfrom\u001b[0m \u001b[0mradiomics\u001b[0m \u001b[0;32mimport\u001b[0m \u001b[0mfeatureextractor\u001b[0m  \u001b[0;31m# This module is used for interaction with pyradiomics\u001b[0m\u001b[0;34m\u001b[0m\u001b[0;34m\u001b[0m\u001b[0m\n\u001b[1;32m      8\u001b[0m \u001b[0;32mfrom\u001b[0m \u001b[0mglob\u001b[0m \u001b[0;32mimport\u001b[0m \u001b[0mglob\u001b[0m\u001b[0;34m\u001b[0m\u001b[0;34m\u001b[0m\u001b[0m\n",
      "\u001b[0;31mModuleNotFoundError\u001b[0m: No module named 'radiomics'"
     ]
    }
   ],
   "source": [
    "import pandas as pd\n",
    "import nibabel as nib\n",
    "import matplotlib.pylab as plt\n",
    "import numpy as np\n",
    "import os  # needed to navigate the system to get the input data\n",
    "import radiomics\n",
    "from radiomics import featureextractor  # This module is used for interaction with pyradiomics\n",
    "from glob import glob\n",
    "import SimpleITK as sitk\n",
    "from radiomics import firstorder, getTestCase, glcm, glrlm, glszm, imageoperations, shape, ngtdm, gldm\n",
    "import tqdm\n",
    "from collections import defaultdict\n",
    "import scipy.integrate as integrate\n",
    "import scipy\n",
    "import scipy.ndimage\n",
    "import csv\n"
   ]
  },
  {
   "cell_type": "code",
   "execution_count": 6,
   "metadata": {},
   "outputs": [
    {
     "name": "stdout",
     "output_type": "stream",
     "text": [
      "35\n",
      "35\n"
     ]
    }
   ],
   "source": [
    "import os\n",
    "\n",
    "CT=[]\n",
    "pt_list=[]\n",
    "data_path = '/home/jennifer/Projects/Stroke/Data/stroke_CT'\n",
    "for pt in os.listdir(data_path):\n",
    "    #print(pt)\n",
    "    for ser in os.listdir(os.path.join(data_path, pt)):\n",
    "        if ser== 'CT.nii.gz':\n",
    "            path = os.path.join(data_path, pt,'CT', ser)\n",
    "            CT.append(path)\n",
    "            pt_list.append(pt)\n",
    "            #print(os.path.join(data_path, pt,'CT', ser))\n",
    "\n",
    "print(len(CT))\n",
    "print(len(pt_list))"
   ]
  },
  {
   "cell_type": "code",
   "execution_count": 49,
   "metadata": {},
   "outputs": [
    {
     "data": {
      "text/plain": [
       "(254, 13)"
      ]
     },
     "execution_count": 49,
     "metadata": {},
     "output_type": "execute_result"
    }
   ],
   "source": [
    "df = pd.read_csv('/home/nidhiramesh/CT_Project/data_sheets/MTB_CT_Patients.csv')\n",
    "df.head()\n",
    "df.shape"
   ]
  },
  {
   "cell_type": "code",
   "execution_count": null,
   "metadata": {},
   "outputs": [],
   "source": []
  },
  {
   "cell_type": "code",
   "execution_count": 50,
   "metadata": {},
   "outputs": [
    {
     "data": {
      "text/plain": [
       "(254, 13)"
      ]
     },
     "execution_count": 50,
     "metadata": {},
     "output_type": "execute_result"
    }
   ],
   "source": [
    "df.shape"
   ]
  },
  {
   "cell_type": "code",
   "execution_count": 51,
   "metadata": {},
   "outputs": [
    {
     "name": "stdout",
     "output_type": "stream",
     "text": [
      "254\n",
      "['R_MCA', 'R_MCA', 'R_ICA', 'R_ICA', 'B_PICA', 'R_MCA', 'R_MCA', 'R_ICA', 'R_MCA', 'R_MCA', 'R_ICA', 'R_MCA', 'R_ICA', 'R_MCA', 'R_MCA', 'R_MCA', 'R_ICA', 'R_MCA', 'R_MCA', 'R_MCA', 'R_MCA', 'R_ICA', 'R_MCA', 'R_ICA', 'R_MCA', 'R_MCA', 'R_MCA', 'R_MCA', 'R_MCA', 'B_PCA', 'R_MCA', 'R_MCA', 'R_MCA', 'R_MCA', 'R_MCA', 'R_MCA', 'R_MCA', 'R_MCA', 'R_ICA', 'R_ICA', 'R_MCA', 'R_MCA', 'R_MCA', 'R_MCA', 'R_MCA', 'R_MCA', 'R_MCA', 'R_MCA', 'R_MCA', 'R_MCA', 'R_MCA', 'R_MCA', 'R_ICA', 'R_MCA', 'R_ICA', 'R_ICA', 'R_MCA', 'R_MCA', 'R_MCA', 'R_MCA', 'R_MCA', 'R_ICA', 'R_ICA', 'R_MCA', 'R_MCA', 'R_MCA', 'R_ICA', 'R_MCA', 'R_MCA', 'R_MCA', 'R_ICA', 'R_MCA', 'R_MCA', 'R_MCA', 'R_MCA', 'R_ICA', 'R_MCA', 'R_MCA', 'R_MCA', 'R_MCA', 'R_MCA', 'R_MCA', 'R_ICA', 'R_ICA', 'R_MCA', 'R_MCA', 'R_MCA', 'R_MCA', 'B_PICA', 'R_MCA', 'R_MCA', 'R_MCA', 'R_MCA', 'R_ICA', 'R_MCA', 'R_MCA', 'R_MCA', 'R_ICA', 'R_MCA', 'R_ICA', 'R_MCA', 'R_MCA', 'R_MCA', 'R_MCA', 'R_MCA', 'R_MCA', 'R_MCA', 'R_ICA', 'R_MCA', 'R_MCA', 'R_MCA', 'B_PCA', 'R_MCA', 'R_MCA', 'R_MCA', 'R_MCA', 'R_MCA', 'R_MCA', 'B_PCA', 'B_PCA', 'R_ICA', 'R_MCA', 'R_MCA', 'R_ICA', 'R_ICA', 'R_MCA', 'R_MCA', 'R_MCA', 'R_MCA', 'R_ICA', 'R_MCA', 'R_MCA', 'R_MCA', 'R_MCA', 'R_MCA', 'R_MCA', 'R_MCA', 'R_ICA', 'R_MCA', 'R_MCA', 'R_MCA', 'R_MCA', 'R_MCA', 'R_MCA', 'R_MCA', 'R_MCA', 'L_ACA', 'R_MCA', 'R_ICA', 'R_MCA', 'R_ICA', 'R_MCA', 'R_ICA', 'R_MCA', 'R_MCA', 'R_MCA', 'R_ICA', 'R_MCA', 'R_MCA', 'B_PCA', 'B_PCA', 'R_MCA', 'R_MCA', 'R_MCA', 'R_MCA', 'R_MCA', 'R_MCA', 'R_MCA', 'R_MCA', 'R_ICA', 'R_ICA', 'R_ICA', 'R_MCA', 'R_MCA', 'R_MCA', 'R_ICA', 'R_MCA', 'R_MCA', 'R_MCA', 'R_MCA', 'R_MCA', 'R_MCA', 'R_MCA', 'R_MCA', 'R_MCA', 'R_MCA', 'R_MCA', 'R_MCA', 'R_MCA', 'R_ICA', 'R_ICA', 'R_MCA', 'R_MCA', 'R_ICA', 'R_MCA', 'R_MCA', 'L_CCA', 'R_MCA', 'R_MCA', 'R_MCA', 'R_MCA', 'R_ICA', 'R_MCA', 'R_MCA', 'R_MCA', 'R_MCA', 'R_ICA', 'R_ICA', 'R_MCA', 'R_MCA', 'R_MCA', 'R_MCA', 'R_MCA', 'R_MCA', 'R_MCA', 'R_MCA', 'R_MCA', 'R_MCA', 'L_CCA', 'R_MCA', 'R_MCA', 'R_MCA', 'R_MCA', 'R_MCA', 'R_MCA', 'R_MCA', 'R_ICA', 'R_MCA', 'R_MCA', 'R_ICA', 'R_MCA', 'R_MCA', 'R_MCA', 'R_MCA', 'R_MCA', 'R_MCA', 'R_MCA', 'R_MCA', 'R_MCA', 'R_ICA', 'R_MCA', 'R_MCA', 'R_MCA', 'R_MCA', 'R_MCA', 'R_MCA', 'R_MCA', 'R_MCA', 'R_MCA', 'L_CCA', 'R_MCA', 'R_MCA', 'R_MCA', 'R_MCA']\n"
     ]
    }
   ],
   "source": [
    "location = df['Location'].tolist()\n",
    "side = df['Side'].tolist()\n",
    "\n",
    "location = [x.strip(' ') for x in location]\n",
    "print(len(location))\n",
    "\n",
    "spot = []\n",
    "for l in location:\n",
    "    s= side[location.index(l)]\n",
    "    spot.append(s+'_'+l)\n",
    "print(spot)\n",
    "\n",
    "df['spot'] = spot\n",
    "\n"
   ]
  },
  {
   "cell_type": "code",
   "execution_count": 58,
   "metadata": {},
   "outputs": [
    {
     "data": {
      "text/plain": [
       "(30, 14)"
      ]
     },
     "execution_count": 58,
     "metadata": {},
     "output_type": "execute_result"
    }
   ],
   "source": [
    "#Dropping all patients whose side is 'B'\n",
    "df = df[df.Side != 'B']\n",
    "#Dropping patients whose location is CCA (count=3)\n",
    "df = df[df.Location != 'CCA']\n",
    "df.shape\n",
    "\n",
    "df = df.loc[df['PT_ID'].isin(pt_list)]\n",
    "df.shape"
   ]
  },
  {
   "cell_type": "code",
   "execution_count": null,
   "metadata": {},
   "outputs": [],
   "source": []
  },
  {
   "cell_type": "code",
   "execution_count": 59,
   "metadata": {},
   "outputs": [
    {
     "data": {
      "text/html": [
       "<div>\n",
       "<style scoped>\n",
       "    .dataframe tbody tr th:only-of-type {\n",
       "        vertical-align: middle;\n",
       "    }\n",
       "\n",
       "    .dataframe tbody tr th {\n",
       "        vertical-align: top;\n",
       "    }\n",
       "\n",
       "    .dataframe thead th {\n",
       "        text-align: right;\n",
       "    }\n",
       "</style>\n",
       "<table border=\"1\" class=\"dataframe\">\n",
       "  <thead>\n",
       "    <tr style=\"text-align: right;\">\n",
       "      <th></th>\n",
       "      <th>PT_ID</th>\n",
       "      <th>Sex</th>\n",
       "      <th>Age</th>\n",
       "      <th>Side</th>\n",
       "      <th>Location</th>\n",
       "      <th>NIHSS</th>\n",
       "      <th>TICI</th>\n",
       "      <th>AOL</th>\n",
       "      <th>Pulls</th>\n",
       "      <th>Label_mTICI_2c+</th>\n",
       "      <th>Label_FPE_2c</th>\n",
       "      <th>Label_mTICI_2b+</th>\n",
       "      <th>Label_FPE_2b</th>\n",
       "      <th>spot</th>\n",
       "    </tr>\n",
       "  </thead>\n",
       "  <tbody>\n",
       "    <tr>\n",
       "      <th>0</th>\n",
       "      <td>280019</td>\n",
       "      <td>m</td>\n",
       "      <td>67</td>\n",
       "      <td>R</td>\n",
       "      <td>MCA</td>\n",
       "      <td>11</td>\n",
       "      <td>3</td>\n",
       "      <td>3</td>\n",
       "      <td>4</td>\n",
       "      <td>1</td>\n",
       "      <td>0</td>\n",
       "      <td>1</td>\n",
       "      <td>0</td>\n",
       "      <td>R_MCA</td>\n",
       "    </tr>\n",
       "    <tr>\n",
       "      <th>1</th>\n",
       "      <td>280021</td>\n",
       "      <td>m</td>\n",
       "      <td>66</td>\n",
       "      <td>R</td>\n",
       "      <td>MCA</td>\n",
       "      <td>10</td>\n",
       "      <td>0</td>\n",
       "      <td>0</td>\n",
       "      <td>3</td>\n",
       "      <td>0</td>\n",
       "      <td>0</td>\n",
       "      <td>0</td>\n",
       "      <td>0</td>\n",
       "      <td>R_MCA</td>\n",
       "    </tr>\n",
       "    <tr>\n",
       "      <th>3</th>\n",
       "      <td>280025</td>\n",
       "      <td>f</td>\n",
       "      <td>83</td>\n",
       "      <td>L</td>\n",
       "      <td>ICA</td>\n",
       "      <td>19</td>\n",
       "      <td>2b</td>\n",
       "      <td>3</td>\n",
       "      <td>2</td>\n",
       "      <td>0</td>\n",
       "      <td>0</td>\n",
       "      <td>1</td>\n",
       "      <td>0</td>\n",
       "      <td>R_ICA</td>\n",
       "    </tr>\n",
       "    <tr>\n",
       "      <th>5</th>\n",
       "      <td>280043</td>\n",
       "      <td>m</td>\n",
       "      <td>86</td>\n",
       "      <td>R</td>\n",
       "      <td>MCA</td>\n",
       "      <td>27</td>\n",
       "      <td>2b</td>\n",
       "      <td>3</td>\n",
       "      <td>3</td>\n",
       "      <td>0</td>\n",
       "      <td>0</td>\n",
       "      <td>1</td>\n",
       "      <td>0</td>\n",
       "      <td>R_MCA</td>\n",
       "    </tr>\n",
       "    <tr>\n",
       "      <th>9</th>\n",
       "      <td>280079</td>\n",
       "      <td>m</td>\n",
       "      <td>50</td>\n",
       "      <td>R</td>\n",
       "      <td>MCA</td>\n",
       "      <td>20</td>\n",
       "      <td>2b</td>\n",
       "      <td>3</td>\n",
       "      <td>1</td>\n",
       "      <td>0</td>\n",
       "      <td>0</td>\n",
       "      <td>1</td>\n",
       "      <td>1</td>\n",
       "      <td>R_MCA</td>\n",
       "    </tr>\n",
       "  </tbody>\n",
       "</table>\n",
       "</div>"
      ],
      "text/plain": [
       "    PT_ID Sex  Age Side Location NIHSS TICI AOL  Pulls  Label_mTICI_2c+  \\\n",
       "0  280019   m   67    R      MCA    11    3   3      4                1   \n",
       "1  280021   m   66    R      MCA    10    0   0      3                0   \n",
       "3  280025   f   83    L      ICA    19   2b   3      2                0   \n",
       "5  280043   m   86    R      MCA    27   2b   3      3                0   \n",
       "9  280079   m   50    R      MCA    20   2b   3      1                0   \n",
       "\n",
       "   Label_FPE_2c  Label_mTICI_2b+  Label_FPE_2b   spot  \n",
       "0             0                1             0  R_MCA  \n",
       "1             0                0             0  R_MCA  \n",
       "3             0                1             0  R_ICA  \n",
       "5             0                1             0  R_MCA  \n",
       "9             0                1             1  R_MCA  "
      ]
     },
     "execution_count": 59,
     "metadata": {},
     "output_type": "execute_result"
    }
   ],
   "source": [
    "df.head()"
   ]
  },
  {
   "cell_type": "code",
   "execution_count": 60,
   "metadata": {},
   "outputs": [
    {
     "name": "stdout",
     "output_type": "stream",
     "text": [
      "B_PCA\n",
      "1\n"
     ]
    }
   ],
   "source": [
    "#checking to find any stray locations\n",
    "count=0\n",
    "for x in spot:\n",
    "    #print(x)\n",
    "    if x != 'R_ACA'and x != 'R_MCA'and x != 'R_PCA'and x != 'R_ICA'and x != 'R_PICA'and x != 'L_ACA'and x != 'L_MCA'and x != 'L_PCA'and x != 'L_ICA'and x != 'L_PICA':\n",
    "        count +=1\n",
    "        print(x)\n",
    "        spot.remove(x)\n",
    "        \n",
    "print(count)"
   ]
  },
  {
   "cell_type": "code",
   "execution_count": 61,
   "metadata": {},
   "outputs": [
    {
     "data": {
      "image/png": "[encoded data removed]",
      "text/plain": [
       "<Figure size 432x288 with 1 Axes>"
      ]
     },
     "metadata": {
      "needs_background": "light"
     },
     "output_type": "display_data"
    }
   ],
   "source": [
    "atlas = nib.load('/home/nidhiramesh/CT_Project/vasc_terr_r.nii.gz')\n",
    "atlas = atlas.get_fdata().astype(int) / 2\n",
    "\n",
    "label_terr = ['Whole_Brain',\n",
    "              'R_ACA',\n",
    "              'R_MCA',\n",
    "              'R_PCA',\n",
    "              'R_ICA',\n",
    "              'R_PICA',\n",
    "              'L_ACA',\n",
    "              'L_MCA',\n",
    "              'L_PCA',\n",
    "              'L_ICA',\n",
    "              'L_PICA', ]\n",
    "\n",
    "all_masks = []\n",
    "for l in df['spot']:\n",
    "    ind = l\n",
    "    #print(ind)\n",
    "    mask = np.zeros(atlas.T.shape)\n",
    "    mask += atlas.T == label_terr.index(ind)\n",
    "    plt.imshow(mask[10,:,:], cmap='gray')\n",
    "    #plt.show()\n",
    "    all_masks.append(mask)\n",
    " "
   ]
  },
  {
   "cell_type": "code",
   "execution_count": 62,
   "metadata": {},
   "outputs": [
    {
     "name": "stdout",
     "output_type": "stream",
     "text": [
      "30\n"
     ]
    }
   ],
   "source": [
    "print(len(all_masks))"
   ]
  },
  {
   "cell_type": "code",
   "execution_count": 64,
   "metadata": {},
   "outputs": [
    {
     "ename": "NameError",
     "evalue": "name 'sitk' is not defined",
     "output_type": "error",
     "traceback": [
      "\u001b[0;31m---------------------------------------------------------------------------\u001b[0m",
      "\u001b[0;31mNameError\u001b[0m                                 Traceback (most recent call last)",
      "\u001b[0;32m<ipython-input-64-29b1388a002a>\u001b[0m in \u001b[0;36m<module>\u001b[0;34m\u001b[0m\n\u001b[1;32m      1\u001b[0m \u001b[0mradiomic_features_CT\u001b[0m \u001b[0;34m=\u001b[0m \u001b[0;34m[\u001b[0m\u001b[0;34m]\u001b[0m\u001b[0;34m\u001b[0m\u001b[0;34m\u001b[0m\u001b[0m\n\u001b[1;32m      2\u001b[0m \u001b[0;32mfor\u001b[0m \u001b[0mn\u001b[0m\u001b[0;34m,\u001b[0m \u001b[0mm\u001b[0m \u001b[0;32min\u001b[0m \u001b[0mzip\u001b[0m\u001b[0;34m(\u001b[0m\u001b[0mCT\u001b[0m\u001b[0;34m,\u001b[0m \u001b[0mall_masks\u001b[0m\u001b[0;34m)\u001b[0m\u001b[0;34m:\u001b[0m\u001b[0;34m\u001b[0m\u001b[0;34m\u001b[0m\u001b[0m\n\u001b[0;32m----> 3\u001b[0;31m     \u001b[0mnew_img\u001b[0m \u001b[0;34m=\u001b[0m\u001b[0msitk\u001b[0m\u001b[0;34m.\u001b[0m\u001b[0mGetImageFromArray\u001b[0m\u001b[0;34m(\u001b[0m\u001b[0mn\u001b[0m\u001b[0;34m)\u001b[0m \u001b[0;31m# 'put your t2 numpy array'\u001b[0m\u001b[0;34m\u001b[0m\u001b[0;34m\u001b[0m\u001b[0m\n\u001b[0m\u001b[1;32m      4\u001b[0m     \u001b[0;31m#new_img.SetSpacing((0.5, 0.5, 3))\u001b[0m\u001b[0;34m\u001b[0m\u001b[0;34m\u001b[0m\u001b[0;34m\u001b[0m\u001b[0m\n\u001b[1;32m      5\u001b[0m \u001b[0;34m\u001b[0m\u001b[0m\n",
      "\u001b[0;31mNameError\u001b[0m: name 'sitk' is not defined"
     ]
    }
   ],
   "source": [
    "radiomic_features_CT = []\n",
    "for n, m in zip(CT, all_masks):\n",
    "    new_img =sitk.GetImageFromArray(n) # 'put your t2 numpy array'\n",
    "    #new_img.SetSpacing((0.5, 0.5, 3))\n",
    "     \n",
    "                          \n",
    "    new_mask = sitk.GetImageFromArray(m) # 'put your prostate mask numpy array' \n",
    "    #new_mask.SetSpacing((0.5, 0.5, 3))\n",
    "    extractor = featureextractor.RadiomicsFeatureExtractor()\n",
    "\n",
    "    extractor.enableAllFeatures()\n",
    "\n",
    "    extractor.enableImageTypeByName('LoG',True,  {'sigma': [2, 3, 4, 5]})\n",
    "    extractor.enableImageTypeByName('Wavelet', True)\n",
    "    features_mask_CT = extractor.execute(new_img, new_mask)\n",
    "    radiomic_features_CT.append(features_mask_CT)\n",
    "        \n"
   ]
  },
  {
   "cell_type": "code",
   "execution_count": null,
   "metadata": {},
   "outputs": [],
   "source": []
  }
 ],
 "metadata": {
  "kernelspec": {
   "display_name": "Python 3",
   "language": "python",
   "name": "python3"
  },
  "language_info": {
   "codemirror_mode": {
    "name": "ipython",
    "version": 3
   },
   "file_extension": ".py",
   "mimetype": "text/x-python",
   "name": "python",
   "nbconvert_exporter": "python",
   "pygments_lexer": "ipython3",
   "version": "3.8.3"
  }
 },
 "nbformat": 4,
 "nbformat_minor": 4
}
