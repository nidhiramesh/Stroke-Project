{
 "cells": [
  {
   "cell_type": "code",
   "execution_count": 1,
   "metadata": {},
   "outputs": [],
   "source": [
    "def evaluate(model, test_features, test_labels):\n",
    "    predictions = model.predict(X_test)\n",
    "    auc = metrics.roc_auc_score(y_test,predictions)\n",
    "    precison = metrics.precision_score(y_test,predictions,average='micro')\n",
    "    recall = metrics.recall_score(y_test, predictions, average='micro')\n",
    "    print('Model Performance')\n",
    "    print('Precision scroe = {:0.4f}.' .format(precison))\n",
    "    print('Recall scroe = {:0.4f}.' .format(recall))\n",
    "    print('ROC AUC scroe = {:0.4f}.' .format(auc))\n",
    "    return auc"
   ]
  },
  {
   "cell_type": "code",
   "execution_count": 2,
   "metadata": {},
   "outputs": [],
   "source": [
    "from __future__ import division,print_function\n",
    "\n",
    "%load_ext autoreload\n",
    "\n",
    "%autoreload 2\n",
    "\n",
    "\n",
    "import logging\n",
    "import sys, os\n",
    "import matplotlib.pyplot as plt\n",
    "import numpy as np\n",
    "import SimpleITK as sitk\n",
    "#import radiomics\n",
    "import six\n",
    "\n",
    "#import torch\n",
    "#import skimage \n",
    "#import cv2\n",
    "import pandas as pd\n",
    "from sklearn.ensemble import RandomForestClassifier, AdaBoostClassifier\n",
    "from sklearn.neural_network import MLPClassifier\n",
    "from sklearn.tree import DecisionTreeClassifier\n",
    "from sklearn.model_selection import StratifiedKFold\n",
    "from sklearn.metrics import plot_roc_curve, auc, roc_curve, recall_score, confusion_matrix\n",
    "from sklearn.decomposition import PCA\n",
    "from sklearn.svm import SVC, LinearSVC\n",
    "from sklearn.naive_bayes import GaussianNB\n",
    "from sklearn.ensemble import RandomForestClassifier, GradientBoostingClassifier\n",
    "from sklearn.linear_model import LogisticRegression\n",
    "from sklearn.neighbors import KNeighborsClassifier\n",
    "from sklearn.neural_network import MLPClassifier\n",
    "from sklearn.kernel_approximation import Nystroem\n",
    "from sklearn.kernel_approximation import RBFSampler\n",
    "from sklearn.pipeline import make_pipeline\n",
    "from sklearn.metrics import roc_auc_score\n",
    "\n",
    "\n",
    "%matplotlib inline  \n",
    " \n",
    "\n",
    "# # Get the PyRadiomics logger (default log-level = INFO)\n",
    "# logger = radiomics.logger\n",
    "# logger.setLevel(logging.DEBUG)  # set level to DEBUG to include debug log messages in log file\n",
    "\n",
    "# # Write out all log entries to a file\n",
    "# handler = logging.FileHandler(filename='testLog.txt', mode='w')\n",
    "# formatter = logging.Formatter('%(levelname)s:%(name)s: %(message)s')\n",
    "# handler.setFormatter(formatter)\n",
    "# logger.addHandler(handler)\n",
    "\n",
    "# data_path = 'G:/StrokeResearch/stroke_MRI/region_based/'"
   ]
  },
  {
   "cell_type": "code",
   "execution_count": 3,
   "metadata": {},
   "outputs": [],
   "source": [
    "def Find_Optimal_Cutoff(target, predicted):\n",
    "        \"\"\" Find the optimal probability cutoff point for a classification model related to event rate\n",
    "        Parameters\n",
    "        ----------\n",
    "        target : Matrix with dependent or target data, where rows are observations\n",
    "        predicted : Matrix with predicted data, where rows are observations\n",
    "        Returns\n",
    "        -------\n",
    "        list type, with optimal cutoff value\n",
    "        \"\"\"\n",
    "        fpr, tpr, threshold = roc_curve(target, predicted)\n",
    "\n",
    "        best_threshold_idx = np.argmax(tpr-fpr)\n",
    "        best_threshold = threshold[best_threshold_idx]\n",
    "        return best_threshold"
   ]
  },
  {
   "cell_type": "code",
   "execution_count": 4,
   "metadata": {},
   "outputs": [],
   "source": [
    "from sklearn.model_selection import train_test_split, GridSearchCV\n",
    "from sklearn.ensemble import RandomForestClassifier\n",
    "from sklearn import metrics\n",
    "from pprint import pprint\n",
    "\n",
    "## merge with label\n",
    "\n",
    "# read in radiomics data\n",
    "# radiomics = pd.read_csv('G:/StrokeResearch/TICI_radiomics_paper/radiomics_features.csv')\n",
    "# clinical_set = pd.read_csv('G:/StrokeResearch/TICI_radiomics_paper/eligible_IR_patients_MR.csv')\n",
    "\n",
    "# # merge filename, label by filename\n",
    "# radiomics = pd.merge(radiomics,clinical_set[['pic_ID','TICI_B']].dropna(), on='pic_ID')\n",
    "# X = radiomics.drop(['pic_ID','TICI_B'],1)\n",
    "# Y = radiomics[['TICI_B']].astype(int).values.ravel()\n",
    "\n",
    "features = pd.read_csv('features_w_mTICI.csv')\n",
    "radiomics = features.loc[:,features.columns != 'Label_mTICI_2c+'].columns\n",
    "\n",
    "X= features[radiomics]\n",
    "Y= features['Label_mTICI_2c+']\n",
    "\n",
    "\n",
    "# create train test dataset\n",
    "X_train, X_test, y_train, y_test = train_test_split(X, Y, test_size=0.2, random_state=8)\n",
    "\n"
   ]
  },
  {
   "cell_type": "code",
   "execution_count": 5,
   "metadata": {},
   "outputs": [
    {
     "name": "stdout",
     "output_type": "stream",
     "text": [
      "total features: 1224\n",
      "selected features: 21\n",
      "features with coefficients shrank to zero: 1203\n"
     ]
    }
   ],
   "source": [
    "# feature selection LASSO\n",
    "from sklearn.feature_selection import SelectFromModel\n",
    "from sklearn.model_selection import train_test_split\n",
    "from sklearn.linear_model import Lasso, LogisticRegression\n",
    "from sklearn.preprocessing import StandardScaler\n",
    "\n",
    "scaler = StandardScaler()\n",
    "scaler.fit(X_train)\n",
    "\n",
    "sel_ = SelectFromModel(LogisticRegression(C=1, penalty='l1',solver='liblinear'))\n",
    "sel_.fit(scaler.transform(X_train), y_train)\n",
    "selected_feat_LASSO = X_train.columns[(sel_.get_support())]\n",
    "print('total features: {}'.format((X_train.shape[1])))\n",
    "print('selected features: {}'.format(len(selected_feat_LASSO)))\n",
    "print('features with coefficients shrank to zero: {}'.format(\n",
    "      np.sum(sel_.estimator_.coef_ == 0)))\n",
    "# LASSO selected features\n",
    "X_train_selected_LASSO = sel_.transform(X_train)\n",
    "X_test_selected_LASSO = sel_.transform(X_test)"
   ]
  },
  {
   "cell_type": "code",
   "execution_count": 6,
   "metadata": {},
   "outputs": [
    {
     "name": "stdout",
     "output_type": "stream",
     "text": [
      "(485,)\n"
     ]
    },
    {
     "data": {
      "text/plain": [
       "<matplotlib.axes._subplots.AxesSubplot at 0x7fcda6fe5220>"
      ]
     },
     "execution_count": 6,
     "metadata": {},
     "output_type": "execute_result"
    },
    {
     "data": {
      "image/png": "[encoded data removed]",
      "text/plain": [
       "<Figure size 432x288 with 1 Axes>"
      ]
     },
     "metadata": {
      "needs_background": "light"
     },
     "output_type": "display_data"
    }
   ],
   "source": [
    "# feature selection RF\n",
    "from sklearn.feature_selection import SelectFromModel\n",
    "from sklearn.ensemble import RandomForestClassifier\n",
    "from collections import defaultdict\n",
    "\n",
    "# merge filename, label by filename\n",
    "rf = RandomForestClassifier()\n",
    "scores = defaultdict(list)\n",
    "\n",
    "cls = RandomForestClassifier(max_depth=110, max_features=3, min_samples_leaf=4,min_samples_split=8, n_estimators=500)\n",
    "sel = SelectFromModel(cls)\n",
    "sel.fit(X_train, y_train)\n",
    "selected_feat_rf= X_train.columns[(sel.get_support())]\n",
    "print(selected_feat_rf.shape)\n",
    "pd.Series(sel.estimator_.feature_importances_.ravel()).hist()"
   ]
  },
  {
   "cell_type": "code",
   "execution_count": 7,
   "metadata": {},
   "outputs": [],
   "source": [
    "from sklearn.manifold import TSNE\n",
    "pca = PCA(n_components=5,svd_solver='full')\n",
    "pca_result_train = pca.fit_transform(X_train)\n",
    "pca_result_test = pca.fit_transform(X_test)"
   ]
  },
  {
   "cell_type": "code",
   "execution_count": 34,
   "metadata": {},
   "outputs": [],
   "source": [
    "# Run classifier with cross-validation and plot ROC curves\n",
    "\n",
    "#classifier = AdaBoostClassifier(learning_rate = 0.5, n_estimators=200)\n",
    "# classifier = RandomForestClassifier(max_depth=100, max_features=3, min_samples_leaf=4, min_samples_split=12, n_estimators=50)\n",
    "classifier = SVC(C=300, kernel='rbf', gamma=0.0001, probability=True)\n",
    "#classifier = KNeighborsClassifier(n_neighbors=10, weights='distance',n_jobs=4)\n",
    "#classifier = LogisticRegression(C=0.1, penalty='l2',solver='saga',max_iter=500,random_state=i,class_weight='balanced',n_jobs=4)\n",
    "from sklearn.preprocessing import MinMaxScaler\n",
    "scaler=MinMaxScaler()\n",
    "\n",
    "# X_RF\n",
    "# X_s =X_train[selected_feat_rf]\n",
    "# X_t = X_test[selected_feat_rf]\n",
    "feat_train_sc=scaler.fit_transform(X_train[selected_feat_rf])\n",
    "feat_test_sc= scaler.fit_transform(X_test[selected_feat_rf])\n",
    "X_s = pd.DataFrame(feat_train_sc)\n",
    "X_t = pd.DataFrame(feat_test_sc)\n",
    "\n",
    "\n",
    "# X_LASSO\n",
    "# X_s = X_train[selected_feat_LASSO]\n",
    "# X_t = X_test[selected_feat_LASSO]\n",
    "# feat_train_sc=scaler.fit_transform(X_train[selected_feat_LASSO])\n",
    "# feat_test_sc= scaler.fit_transform(X_test[selected_feat_LASSO])\n",
    "# X_s = pd.DataFrame(feat_train_sc)\n",
    "# X_t = pd.DataFrame(feat_test_sc)\n",
    "\n",
    "# X_PCA\n",
    "# pca_result_train = pca.fit_transform(scaler.fit_transform(X_train))\n",
    "# pca_result_test = pca.fit_transform(scaler.fit_transform(X_test))\n",
    "# X_s = pd.DataFrame(pca_result_train)\n",
    "# X_t = pd.DataFrame(pca_result_test)\n",
    "\n",
    "auc_ML = []\n",
    "sens_ML = []\n",
    "spec_ML = []\n",
    "tprs = []\n",
    "mean_fpr = np.linspace(0, 1, 100)\n",
    "\n",
    "#classifier = RandomForestClassifier(max_depth=100, max_features=3, min_samples_leaf=4, min_samples_split=12, n_estimators=50)\n",
    "for i in range(100):\n",
    "    cv = StratifiedKFold(n_splits=5,shuffle=False)\n",
    "    for j, (train, test) in enumerate(cv.split(X_s, y_train)):\n",
    "        apple = X_s.iloc[train]\n",
    "        orange = y_train.iloc[train]\n",
    "        classifier.fit(apple, orange)\n",
    "    \n",
    "    y_pred = classifier.predict_proba(X_t)[:,1]\n",
    "    \n",
    "    fpr, tpr, threshold = roc_curve(y_test, y_pred)\n",
    "    interp_tpr = np.interp(mean_fpr, fpr, tpr)\n",
    "    interp_tpr[0] = 0.0\n",
    "    tprs.append(interp_tpr)\n",
    "    \n",
    "    threshold = Find_Optimal_Cutoff(y_test, y_pred)\n",
    "    auc = roc_auc_score(y_test, y_pred)\n",
    "    tn, fp, fn, tp = confusion_matrix(y_test, (y_pred >= threshold)).ravel()\n",
    "    sensitivity = tp / (tp + fn)\n",
    "    specificity = tn / (tn + fp)\n",
    "    auc_ML.append(auc)\n",
    "    sens_ML.append(sensitivity)\n",
    "    spec_ML.append(specificity)"
   ]
  },
  {
   "cell_type": "code",
   "execution_count": 31,
   "metadata": {},
   "outputs": [
    {
     "name": "stdout",
     "output_type": "stream",
     "text": [
      "auc: 0.00% +/- 0.00%\n",
      "sensitivity: 0.00% +/- 0.00%\n",
      "specificity: 100.00% +/- 0.00%\n"
     ]
    }
   ],
   "source": [
    "mean_auc = np.mean(auc_ML)\n",
    "sd_auc = 1.96*np.std(auc_ML)/np.sqrt(len(auc_ML))\n",
    "mean_sens = np.mean(sens_ML)\n",
    "sd_sens = 1.96*np.std(sens_ML)/np.sqrt(len(sens_ML))\n",
    "mean_spec = np.mean(spec_ML)\n",
    "sd_spec = 1.96*np.std(spec_ML)/np.sqrt(len(spec_ML))\n",
    "mean_auc = \"{:.2%}\".format(mean_auc)\n",
    "sd_auc = \"{:.2%}\".format(sd_auc)\n",
    "mean_sens = \"{:.2%}\".format(mean_sens)\n",
    "sd_sens = \"{:.2%}\".format(sd_sens)\n",
    "mean_spec = \"{:.2%}\".format(mean_spec)\n",
    "sd_spec = \"{:.2%}\".format(sd_spec)\n",
    "print(\"auc: %s +/- %s\" % (mean_auc,sd_auc))\n",
    "print(\"sensitivity: %s +/- %s\" % (mean_sens,sd_sens))\n",
    "print(\"specificity: %s +/- %s\" % (mean_spec,sd_spec))"
   ]
  },
  {
   "cell_type": "code",
   "execution_count": 32,
   "metadata": {},
   "outputs": [],
   "source": [
    "tprs_rf = tprs\n",
    "\n",
    "tprs_svm = tprs\n",
    "\n",
    "tprs_lr = tprs\n",
    "\n",
    "tprs_knn = tprs"
   ]
  },
  {
   "cell_type": "code",
   "execution_count": 33,
   "metadata": {},
   "outputs": [
    {
     "name": "stderr",
     "output_type": "stream",
     "text": [
      "<ipython-input-33-f66c80cc9a68>:46: MatplotlibDeprecationWarning: Adding an axes using the same arguments as a previous axes currently reuses the earlier instance.  In a future version, a new instance will always be created and returned.  Meanwhile, this warning can be suppressed, and the future behavior ensured, by passing a unique label to each axes instance.\n",
      "  plt.axes().set_aspect('equal')\n"
     ]
    },
    {
     "data": {
      "image/png": "[encoded data removed]",
      "text/plain": [
       "<Figure size 432x432 with 1 Axes>"
      ]
     },
     "metadata": {
      "needs_background": "light"
     },
     "output_type": "display_data"
    }
   ],
   "source": [
    "mean_fpr = np.linspace(0, 1, 100)\n",
    "plt.figure(figsize=(6, 6))\n",
    "\n",
    "# RF\n",
    "mean_tpr_rf = np.mean(tprs_rf, axis=0)\n",
    "mean_tpr_rf[-1] = 1.0\n",
    "std_tpr_rf = 1.96*np.std(tprs_rf, axis=0)/10\n",
    "tprs_upper_rf = np.minimum(mean_tpr_rf + std_tpr_rf, 1)\n",
    "tprs_lower_rf = np.maximum(mean_tpr_rf - std_tpr_rf, 0)\n",
    "\n",
    "plt.plot(mean_fpr, mean_tpr_rf, c=plt.cm.tab10(1), lw = 1, label = 'Top RF Model')\n",
    "plt.fill_between(mean_fpr, tprs_lower_rf, tprs_upper_rf, color=plt.cm.tab10(1), alpha=.05)\n",
    "# SVM\n",
    "mean_tpr_svm = np.mean(tprs_svm, axis=0)\n",
    "mean_tpr_svm[-1] = 1.0\n",
    "std_tpr_svm = 1.96*np.std(tprs_svm, axis=0)/10\n",
    "tprs_upper_svm = np.minimum(mean_tpr_svm + std_tpr_svm, 1)\n",
    "tprs_lower_svm = np.maximum(mean_tpr_svm - std_tpr_svm, 0)\n",
    "\n",
    "plt.plot(mean_fpr, mean_tpr_svm, c=plt.cm.tab10(0), lw = 1, label = 'Top SVM Model')\n",
    "plt.fill_between(mean_fpr, tprs_lower_svm, tprs_upper_svm, color=plt.cm.tab10(0), alpha=.05)\n",
    "# LR\n",
    "mean_tpr_lr = np.mean(tprs_lr, axis=0)\n",
    "mean_tpr_lr[-1] = 1.0\n",
    "std_tpr_lr = 1.96*np.std(tprs_lr, axis=0)/10\n",
    "tprs_upper_lr = np.minimum(mean_tpr_lr + std_tpr_lr, 1)\n",
    "tprs_lower_lr = np.maximum(mean_tpr_lr - std_tpr_lr, 0)\n",
    "\n",
    "plt.plot(mean_fpr, mean_tpr_lr, c=plt.cm.tab10(2), lw = 1, label = 'Top LR Model')\n",
    "plt.fill_between(mean_fpr, tprs_lower_lr, tprs_upper_lr, color=plt.cm.tab10(2), alpha=.05)\n",
    "# KNN\n",
    "mean_tpr_knn = np.mean(tprs_knn, axis=0)\n",
    "mean_tpr_knn[-1] = 1.0\n",
    "std_tpr_knn = 1.96*np.std(tprs_knn, axis=0)/10\n",
    "tprs_upper_knn = np.minimum(mean_tpr_knn + std_tpr_knn, 1)\n",
    "tprs_lower_knn = np.maximum(mean_tpr_knn - std_tpr_knn, 0)\n",
    "\n",
    "plt.plot(mean_fpr, mean_tpr_knn, c=plt.cm.tab10(4), lw = 1, label = 'Top KNN Model')\n",
    "plt.fill_between(mean_fpr, tprs_lower_knn, tprs_upper_knn, color=plt.cm.tab10(4), alpha=.05)\n",
    "\n",
    "plt.plot([0,1],[0,1],color='slategray',linestyle=':')\n",
    "plt.xlim([-0.01,1.01])\n",
    "plt.ylim([-0.01,1.01])\n",
    "plt.ylabel('Sensitivity')\n",
    "plt.xlabel('1-Specificity')\n",
    "plt.axes().set_aspect('equal')\n",
    "plt.legend(loc='lower right')\n",
    "plt.tight_layout()\n",
    "plt.show()"
   ]
  },
  {
   "cell_type": "code",
   "execution_count": 12,
   "metadata": {},
   "outputs": [],
   "source": [
    "## Average Model Ensemble\n",
    "\n",
    "from sklearn.svm import SVC, LinearSVC\n",
    "from sklearn.naive_bayes import GaussianNB\n",
    "from sklearn.ensemble import RandomForestClassifier, GradientBoostingClassifier\n",
    "from sklearn.linear_model import LogisticRegression\n",
    "from sklearn.neighbors import KNeighborsClassifier\n",
    "from sklearn.neural_network import MLPClassifier\n",
    "from sklearn.kernel_approximation import Nystroem\n",
    "from sklearn.kernel_approximation import RBFSampler\n",
    "from sklearn.pipeline import make_pipeline\n",
    "from sklearn.metrics import roc_auc_score\n",
    "\n",
    "SEED = 6\n",
    "\n",
    "def get_models():\n",
    "    \"\"\"Generate a library of base learners.\"\"\"\n",
    "    nb = GaussianNB()\n",
    "    svc = SVC(C=10, probability=True)\n",
    "    knn = KNeighborsClassifier(n_neighbors=20)\n",
    "    lr = LogisticRegression(C=10, penalty='l1',solver='liblinear',max_iter=500, random_state=SEED)\n",
    "    nn = MLPClassifier((70, 10), early_stopping=False, random_state=SEED)\n",
    "    gb = GradientBoostingClassifier(n_estimators=100, random_state=SEED)\n",
    "    rf = RandomForestClassifier(max_depth=90, max_features=2, min_samples_leaf=5, min_samples_split=12, n_estimators=100, random_state=SEED)\n",
    "    GradientBoostingClassifier(n_estimators=100, learning_rate=1,max_depth=10, random_state=SEED)\n",
    "\n",
    "    models = {'svm': svc, 'knn': knn, 'naive bayes': nb, \n",
    "             'mlp-nn': nn, 'random forest': rf, 'gbm': gb, 'logistic': lr,}\n",
    "\n",
    "    return models\n",
    "\n",
    "\n",
    "def train_predict(model_list):\n",
    "    \"\"\"Fit models in list on training set and return preds\"\"\"\n",
    "    P = np.zeros((y_test.shape[0], len(model_list)))\n",
    "    P = pd.DataFrame(P)\n",
    "\n",
    "    print(\"Fitting models.\")\n",
    "    cols = list()\n",
    "    for i, (name, m) in enumerate(models.items()):\n",
    "        print(\"%s...\" % name, end=\" \", flush=False)\n",
    "        m.fit(X_train, y_train)\n",
    "        P.iloc[:, i] = m.predict_proba(X_test)[:, 1]\n",
    "        cols.append(name)\n",
    "    print(\"done\")\n",
    "    \n",
    "    P.columns = cols\n",
    "    print(\"Done.\\n\")\n",
    "    return P\n",
    "\n",
    "\n",
    "def score_models(P, y):\n",
    "    \"\"\"Score model in prediction DF\"\"\"\n",
    "    print(\"Scoring models.\")\n",
    "    for m in P.columns:\n",
    "        score = roc_auc_score(y, P.loc[:, m])\n",
    "        print(\"%-26s: %.3f\" % (m, score))\n",
    "    print(\"Done.\\n\")"
   ]
  },
  {
   "cell_type": "code",
   "execution_count": 13,
   "metadata": {},
   "outputs": [
    {
     "ename": "NameError",
     "evalue": "name 'P' is not defined",
     "output_type": "error",
     "traceback": [
      "\u001b[0;31m---------------------------------------------------------------------------\u001b[0m",
      "\u001b[0;31mNameError\u001b[0m                                 Traceback (most recent call last)",
      "\u001b[0;32m<ipython-input-13-b3c9a0d42d8f>\u001b[0m in \u001b[0;36m<module>\u001b[0;34m\u001b[0m\n\u001b[0;32m----> 1\u001b[0;31m \u001b[0mprint\u001b[0m\u001b[0;34m(\u001b[0m\u001b[0;34m\"Average Ensemble ROC-AUC score: %.3f\"\u001b[0m \u001b[0;34m%\u001b[0m \u001b[0mroc_auc_score\u001b[0m\u001b[0;34m(\u001b[0m\u001b[0my_test\u001b[0m\u001b[0;34m,\u001b[0m \u001b[0mP\u001b[0m\u001b[0;34m.\u001b[0m\u001b[0mmean\u001b[0m\u001b[0;34m(\u001b[0m\u001b[0maxis\u001b[0m\u001b[0;34m=\u001b[0m\u001b[0;36m1\u001b[0m\u001b[0;34m)\u001b[0m\u001b[0;34m)\u001b[0m\u001b[0;34m)\u001b[0m\u001b[0;34m\u001b[0m\u001b[0;34m\u001b[0m\u001b[0m\n\u001b[0m",
      "\u001b[0;31mNameError\u001b[0m: name 'P' is not defined"
     ]
    }
   ],
   "source": [
    "print(\"Average Ensemble ROC-AUC score: %.3f\" % roc_auc_score(y_test, P.mean(axis=1)))"
   ]
  },
  {
   "cell_type": "code",
   "execution_count": 14,
   "metadata": {},
   "outputs": [
    {
     "ename": "NameError",
     "evalue": "name 'P' is not defined",
     "output_type": "error",
     "traceback": [
      "\u001b[0;31m---------------------------------------------------------------------------\u001b[0m",
      "\u001b[0;31mNameError\u001b[0m                                 Traceback (most recent call last)",
      "\u001b[0;32m<ipython-input-14-8a676f1e1303>\u001b[0m in \u001b[0;36m<module>\u001b[0;34m\u001b[0m\n\u001b[0;32m----> 1\u001b[0;31m \u001b[0minclude\u001b[0m \u001b[0;34m=\u001b[0m \u001b[0;34m[\u001b[0m\u001b[0mc\u001b[0m \u001b[0;32mfor\u001b[0m \u001b[0mc\u001b[0m \u001b[0;32min\u001b[0m \u001b[0mP\u001b[0m\u001b[0;34m.\u001b[0m\u001b[0mcolumns\u001b[0m \u001b[0;32mif\u001b[0m \u001b[0mc\u001b[0m \u001b[0;32mnot\u001b[0m \u001b[0;32min\u001b[0m \u001b[0;34m[\u001b[0m\u001b[0;34m\"naive bayes\"\u001b[0m\u001b[0;34m,\u001b[0m\u001b[0;34m'random forest'\u001b[0m\u001b[0;34m,\u001b[0m\u001b[0;34m'gbm'\u001b[0m\u001b[0;34m]\u001b[0m\u001b[0;34m]\u001b[0m\u001b[0;34m\u001b[0m\u001b[0;34m\u001b[0m\u001b[0m\n\u001b[0m\u001b[1;32m      2\u001b[0m \u001b[0mprint\u001b[0m\u001b[0;34m(\u001b[0m\u001b[0;34m\"Truncated ensemble ROC-AUC score: %.3f\"\u001b[0m \u001b[0;34m%\u001b[0m \u001b[0mroc_auc_score\u001b[0m\u001b[0;34m(\u001b[0m\u001b[0my_test\u001b[0m\u001b[0;34m,\u001b[0m \u001b[0mP\u001b[0m\u001b[0;34m.\u001b[0m\u001b[0mloc\u001b[0m\u001b[0;34m[\u001b[0m\u001b[0;34m:\u001b[0m\u001b[0;34m,\u001b[0m \u001b[0minclude\u001b[0m\u001b[0;34m]\u001b[0m\u001b[0;34m.\u001b[0m\u001b[0mmean\u001b[0m\u001b[0;34m(\u001b[0m\u001b[0maxis\u001b[0m\u001b[0;34m=\u001b[0m\u001b[0;36m1\u001b[0m\u001b[0;34m)\u001b[0m\u001b[0;34m)\u001b[0m\u001b[0;34m)\u001b[0m\u001b[0;34m\u001b[0m\u001b[0;34m\u001b[0m\u001b[0m\n",
      "\u001b[0;31mNameError\u001b[0m: name 'P' is not defined"
     ]
    }
   ],
   "source": [
    "include = [c for c in P.columns if c not in [\"naive bayes\",'random forest','gbm']]\n",
    "print(\"Truncated ensemble ROC-AUC score: %.3f\" % roc_auc_score(y_test, P.loc[:, include].mean(axis=1)))"
   ]
  },
  {
   "cell_type": "code",
   "execution_count": 15,
   "metadata": {},
   "outputs": [],
   "source": [
    "# Create the parameter grid based on the results of random search \n",
    "param_grid = {\n",
    "    'bootstrap': [True],\n",
    "    'max_depth': [80, 90, 100, 110],\n",
    "    'max_features': [2, 3],\n",
    "    'min_samples_leaf': [3, 4, 5],\n",
    "    'min_samples_split': [8, 10, 12],\n",
    "    'n_estimators': [100, 200, 300, 500, 1000]\n",
    "}\n",
    "\n",
    "\n",
    "# use grid search with random forest for hyper parameter tuning\n",
    "clf_rf = RandomForestClassifier()\n",
    "\n",
    "# Random search of parameters, using 10 fold cross validation, \n",
    "# search across 100 different combinations, and use all available cores\n",
    "rf_grid = GridSearchCV(estimator = clf_rf, param_grid = param_grid, cv = 10, verbose=2, n_jobs = 8)"
   ]
  },
  {
   "cell_type": "code",
   "execution_count": 16,
   "metadata": {},
   "outputs": [
    {
     "name": "stdout",
     "output_type": "stream",
     "text": [
      "Fitting 10 folds for each of 360 candidates, totalling 3600 fits\n"
     ]
    },
    {
     "name": "stderr",
     "output_type": "stream",
     "text": [
      "[Parallel(n_jobs=8)]: Using backend LokyBackend with 8 concurrent workers.\n",
      "[Parallel(n_jobs=8)]: Done  25 tasks      | elapsed:    2.9s\n",
      "[Parallel(n_jobs=8)]: Done 146 tasks      | elapsed:   13.6s\n",
      "[Parallel(n_jobs=8)]: Done 349 tasks      | elapsed:   30.1s\n",
      "[Parallel(n_jobs=8)]: Done 632 tasks      | elapsed:   52.6s\n",
      "[Parallel(n_jobs=8)]: Done 997 tasks      | elapsed:  1.4min\n",
      "[Parallel(n_jobs=8)]: Done 1442 tasks      | elapsed:  2.0min\n",
      "[Parallel(n_jobs=8)]: Done 1969 tasks      | elapsed:  2.7min\n",
      "[Parallel(n_jobs=8)]: Done 2576 tasks      | elapsed:  3.5min\n",
      "[Parallel(n_jobs=8)]: Done 3265 tasks      | elapsed:  4.5min\n",
      "[Parallel(n_jobs=8)]: Done 3600 out of 3600 | elapsed:  4.9min finished\n"
     ]
    }
   ],
   "source": [
    "## evaluate baseline and grid search result\n",
    "\n",
    "# Fit the grid search model\n",
    "rf_grid.fit(X, Y)\n",
    "\n",
    "rf_grid.best_params_\n",
    "\n",
    "best_rf_grid = rf_grid.best_estimator_\n",
    "#evaluate(best_rf_grid, X_test, y_test)"
   ]
  },
  {
   "cell_type": "code",
   "execution_count": 17,
   "metadata": {},
   "outputs": [
    {
     "data": {
      "text/plain": [
       "RandomForestClassifier(max_depth=80, max_features=2, min_samples_leaf=5,\n",
       "                       min_samples_split=8, n_estimators=200)"
      ]
     },
     "execution_count": 17,
     "metadata": {},
     "output_type": "execute_result"
    }
   ],
   "source": [
    "best_rf_grid"
   ]
  },
  {
   "cell_type": "code",
   "execution_count": 18,
   "metadata": {},
   "outputs": [
    {
     "data": {
      "text/plain": [
       "SVC(C=1000.0, gamma=0.1, kernel='sigmoid')"
      ]
     },
     "execution_count": 18,
     "metadata": {},
     "output_type": "execute_result"
    }
   ],
   "source": [
    "# grid search SVC\n",
    "scaler=StandardScaler()\n",
    "feat_train_sc=scaler.fit_transform(X_train[selected_feat_rf])\n",
    "C_range = np.logspace(-2, 10, 13)\n",
    "gamma_range = np.logspace(-9, 3, 13)\n",
    "param_grid = dict(gamma=gamma_range, C=C_range, kernel=['rbf','sigmoid'])\n",
    "svmgrid = GridSearchCV(SVC(), param_grid=param_grid, cv=10)\n",
    "svmgrid.fit(feat_train_sc, y_train)\n",
    "svm_best_rf_grid = svmgrid.best_estimator_\n",
    "svm_best_rf_grid"
   ]
  },
  {
   "cell_type": "code",
   "execution_count": 19,
   "metadata": {},
   "outputs": [
    {
     "data": {
      "image/png": "[encoded data removed]",
      "text/plain": [
       "<Figure size 432x288 with 1 Axes>"
      ]
     },
     "metadata": {
      "needs_background": "light"
     },
     "output_type": "display_data"
    }
   ],
   "source": [
    "from sklearn.metrics import plot_roc_curve, auc, roc_curve, recall_score, confusion_matrix\n",
    "\n",
    "# Run classifier with cross-validation and plot ROC curves\n",
    "cv = StratifiedKFold(n_splits=5)\n",
    "#classifier = AdaBoostClassifier(learning_rate = 0.5, n_estimators=200)\n",
    "classifier = RandomForestClassifier(max_depth=90, max_features=2, min_samples_leaf=4, min_samples_split=12, n_estimators=100)\n",
    "#classifier = MLPClassifier(random_state=1, max_iter=300)\n",
    "#classifier = DecisionTreeClassifier()\n",
    "\n",
    "tprs = []\n",
    "aucs = []\n",
    "mean_fpr = np.linspace(0, 1, 100)\n",
    "\n",
    "# X_RF\n",
    "X_s = X_train[selected_feat_rf]\n",
    "\n",
    "# X_LASSO\n",
    "# X_s = X_train[selected_feat_LASSO]\n",
    "\n",
    "# X_PCA\n",
    "# X_s = pd.DataFrame(pca_result_train)\n",
    "\n",
    "fig, ax = plt.subplots()\n",
    "for i, (train, test) in enumerate(cv.split(X_s, y_train)):\n",
    "    classifier.fit(X_s.iloc[train], y_train.iloc[train])\n",
    "    viz = plot_roc_curve(classifier, X_s.iloc[test], y_train.iloc[test],\n",
    "                         name='ROC fold {}'.format(i),\n",
    "                         alpha=0.3, lw=1, ax=ax)\n",
    "    interp_tpr = np.interp(mean_fpr, viz.fpr, viz.tpr)\n",
    "    interp_tpr[0] = 0.0\n",
    "    tprs.append(interp_tpr)\n",
    "    aucs.append(viz.roc_auc)\n",
    "\n",
    "ax.plot([0, 1], [0, 1], linestyle='--', lw=2, color='r',\n",
    "        label='Chance', alpha=.8)\n",
    "\n",
    "mean_tpr = np.mean(tprs, axis=0)\n",
    "mean_tpr[-1] = 1.0\n",
    "mean_auc = auc(mean_fpr, mean_tpr)\n",
    "std_auc = np.std(aucs)\n",
    "ax.plot(mean_fpr, mean_tpr, color='b',\n",
    "        label=r'Mean ROC (AUC = %0.2f $\\pm$ %0.2f)' % (mean_auc, std_auc),\n",
    "        lw=2, alpha=.8)\n",
    "\n",
    "std_tpr = np.std(tprs, axis=0)\n",
    "tprs_upper = np.minimum(mean_tpr + std_tpr, 1)\n",
    "tprs_lower = np.maximum(mean_tpr - std_tpr, 0)\n",
    "ax.fill_between(mean_fpr, tprs_lower, tprs_upper, color='grey', alpha=.2,\n",
    "                label=r'$\\pm$ 1 std. dev.')\n",
    "\n",
    "ax.set(xlim=[-0.05, 1.05], ylim=[-0.05, 1.05],\n",
    "       title=\"Receiver operating characteristic\")\n",
    "ax.legend(loc=\"lower right\")\n",
    "plt.show()"
   ]
  },
  {
   "cell_type": "code",
   "execution_count": 21,
   "metadata": {},
   "outputs": [
    {
     "name": "stdout",
     "output_type": "stream",
     "text": [
      "Cumulative explained variation for 2 principal components: 0.9821199777526503.\n",
      "Cumulative explained variation for 22 principal components: 0.9999999999906216.\n"
     ]
    },
    {
     "data": {
      "text/plain": [
       "[<matplotlib.lines.Line2D at 0x7fce5f974220>]"
      ]
     },
     "execution_count": 21,
     "metadata": {},
     "output_type": "execute_result"
    },
    {
     "data": {
      "image/png": "[encoded data removed]",
      "text/plain": [
       "<Figure size 432x288 with 1 Axes>"
      ]
     },
     "metadata": {
      "needs_background": "light"
     },
     "output_type": "display_data"
    }
   ],
   "source": [
    "# feature reduction PCA\n",
    "from sklearn.decomposition import PCA\n",
    "\n",
    "n_components_list = range(2, 40, 20)\n",
    "result = []\n",
    "for n_components in n_components_list:\n",
    "    pca = PCA(n_components=n_components)\n",
    "    pca_result = pca.fit_transform(X_train)\n",
    "    result.append(np.sum(pca.explained_variance_ratio_))\n",
    "    print(f'Cumulative explained variation for {n_components} principal components: {np.sum(pca.explained_variance_ratio_)}.')\n",
    "    \n",
    "plt.plot(n_components_list, result)"
   ]
  },
  {
   "cell_type": "code",
   "execution_count": null,
   "metadata": {},
   "outputs": [],
   "source": []
  }
 ],
 "metadata": {
  "kernelspec": {
   "display_name": "Python 3",
   "language": "python",
   "name": "python3"
  },
  "language_info": {
   "codemirror_mode": {
    "name": "ipython",
    "version": 3
   },
   "file_extension": ".py",
   "mimetype": "text/x-python",
   "name": "python",
   "nbconvert_exporter": "python",
   "pygments_lexer": "ipython3",
   "version": "3.8.3"
  }
 },
 "nbformat": 4,
 "nbformat_minor": 4
}
